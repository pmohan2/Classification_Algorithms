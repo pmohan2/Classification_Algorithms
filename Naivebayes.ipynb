{
 "cells": [
  {
   "cell_type": "code",
   "execution_count": 1,
   "metadata": {},
   "outputs": [],
   "source": [
    "import pandas as pd\n",
    "import numpy as np\n",
    "import random \n",
    "pd.set_option('display.max_rows', 200)"
   ]
  },
  {
   "cell_type": "code",
   "execution_count": 2,
   "metadata": {},
   "outputs": [],
   "source": [
    "def classpriorprob(df):\n",
    "    classes = list(df.iloc[:,-1].unique())\n",
    "    cls_prior_prob = {}\n",
    "    for cls in classes:\n",
    "        cnt = df[df.iloc[:,-1] == cls].shape[0]\n",
    "        cls_prior_prob[cls] = cnt/df.shape[0]\n",
    "    return cls_prior_prob"
   ]
  },
  {
   "cell_type": "code",
   "execution_count": 3,
   "metadata": {},
   "outputs": [],
   "source": [
    "def descriptorposprob(df):\n",
    "    features = df.iloc[:,:-1]\n",
    "    columns = list(features.columns)\n",
    "    classes = list(df.iloc[:,-1].unique())\n",
    "    des_pos_prob = []\n",
    "    for col in columns:\n",
    "        df1 = pd.DataFrame(columns = classes)\n",
    "        df1[\"label\"] = df.iloc[:,col].unique()\n",
    "        for i in range(len(df1)):\n",
    "            for j in classes:\n",
    "                lab = df1.loc[i, \"label\"]\n",
    "                # Laplacian Correction\n",
    "                den = df[df.iloc[:,-1] == j].shape[0]+len(classes)\n",
    "                num = df.loc[(df.iloc[:,-1] == j) & (df[col] == lab)].shape[0]+1\n",
    "                df1.loc[i, j] = num / den\n",
    "        des_pos_prob.append(df1)\n",
    "    return des_pos_prob"
   ]
  },
  {
   "cell_type": "code",
   "execution_count": 4,
   "metadata": {},
   "outputs": [],
   "source": [
    "def naivebayes(df, test):\n",
    "    cls_prior_prob = classpriorprob(df)\n",
    "    des_pos_prob = descriptorposprob(df)\n",
    "    classes = list(df.iloc[:,-1].unique())\n",
    "    c = {}\n",
    "    for i,j in test.iterrows():\n",
    "        cls_post_prob = {}\n",
    "        for cls in classes:\n",
    "            temp = []\n",
    "            for k in range(len(j)):\n",
    "                prob = des_pos_prob[k][des_pos_prob[k][\"label\"] == j[k]].iloc[0][cls]\n",
    "                temp.append(prob)\n",
    "            cls_post_prob[cls] = cls_prior_prob[cls] * np.prod(temp)\n",
    "        c[i] = max(cls_post_prob, key=cls_post_prob.get)  \n",
    "    test[\"Class\"] = c.values()\n",
    "    return test"
   ]
  },
  {
   "cell_type": "code",
   "execution_count": 5,
   "metadata": {},
   "outputs": [],
   "source": [
    "def metrics(ts_lb,answer):\n",
    "    TN = 0\n",
    "    TP = 0\n",
    "    FN = 0\n",
    "    FP = 0\n",
    "    for i,j in zip(ts_lb,answer):\n",
    "        if j==1 and i==1:\n",
    "            TP += 1\n",
    "        elif(j==1 and i==0):\n",
    "            FN += 1\n",
    "        elif(j==0 and i==1):\n",
    "            FP += 1\n",
    "        elif(j==0 and i==0):\n",
    "            TN += 1\n",
    "    Accuracy = (TP + TN)/(TP + FP + TN + FN)\n",
    "    Precision = TP/(TP + FP)\n",
    "    Recall = TP/(TP + FN)\n",
    "    f1_score = (2*Precision*Recall)/(Precision + Recall)\n",
    "    return Accuracy, Precision, Recall, f1_score"
   ]
  },
  {
   "cell_type": "code",
   "execution_count": 6,
   "metadata": {},
   "outputs": [],
   "source": [
    "def k_fold(df):\n",
    "    k = int(input(\"Enter k value: \"))\n",
    "    metrics_list = []\n",
    "    for i in range(k):\n",
    "        splitdfs = np.array_split(df, k)\n",
    "        test = splitdfs[i]\n",
    "        #del(splitdfs[i])\n",
    "        train = pd.concat(splitdfs)\n",
    "        test.reset_index(inplace = True, drop = True)\n",
    "        train.reset_index(inplace = True, drop = True) \n",
    "        actual = test.iloc[:,-1]\n",
    "        test = test.iloc[:,:-1]\n",
    "        results = naivebayes(train, test)\n",
    "        Accuracy, Precision, Recall, f1_score = metrics(actual, results[\"Class\"])\n",
    "        metrics_list.append([Accuracy, Precision, Recall, f1_score])\n",
    "    metrics_list = np.array(metrics_list)\n",
    "    metrics_list = np.mean(metrics_list, axis = 0)\n",
    "    print(\"Accuracy: \",metrics_list[0])\n",
    "    print(\"Precision: \",metrics_list[1])\n",
    "    print(\"Recall: \",metrics_list[2])\n",
    "    print(\"f1_score: \",metrics_list[3])\n",
    "    return metrics_list"
   ]
  },
  {
   "cell_type": "code",
   "execution_count": 7,
   "metadata": {},
   "outputs": [],
   "source": [
    "df1 = pd.read_csv(\"project3_dataset1.txt\", sep = '\\t', header=None)"
   ]
  },
  {
   "cell_type": "code",
   "execution_count": 8,
   "metadata": {
    "scrolled": false
   },
   "outputs": [
    {
     "name": "stdout",
     "output_type": "stream",
     "text": [
      "Enter k value: 10\n",
      "Accuracy:  1.0\n",
      "Precision:  1.0\n",
      "Recall:  1.0\n",
      "f1_score:  1.0\n"
     ]
    },
    {
     "data": {
      "text/plain": [
       "array([1., 1., 1., 1.])"
      ]
     },
     "execution_count": 8,
     "metadata": {},
     "output_type": "execute_result"
    }
   ],
   "source": [
    "k_fold(df1)"
   ]
  },
  {
   "cell_type": "code",
   "execution_count": 9,
   "metadata": {},
   "outputs": [],
   "source": [
    "df2 =  pd.read_csv(\"project3_dataset2.txt\", sep = '\\t', header=None)"
   ]
  },
  {
   "cell_type": "code",
   "execution_count": 10,
   "metadata": {},
   "outputs": [
    {
     "name": "stdout",
     "output_type": "stream",
     "text": [
      "Enter k value: 10\n",
      "Accuracy:  0.8982886216466234\n",
      "Precision:  0.99375\n",
      "Recall:  0.7748962148962149\n",
      "f1_score:  0.8687764504133757\n"
     ]
    },
    {
     "data": {
      "text/plain": [
       "array([0.89828862, 0.99375   , 0.77489621, 0.86877645])"
      ]
     },
     "execution_count": 10,
     "metadata": {},
     "output_type": "execute_result"
    }
   ],
   "source": [
    "k_fold(df2)"
   ]
  },
  {
   "cell_type": "markdown",
   "metadata": {},
   "source": [
    "# Demo \n"
   ]
  },
  {
   "cell_type": "code",
   "execution_count": 11,
   "metadata": {},
   "outputs": [],
   "source": [
    "def naivebayes_demo(df, test):\n",
    "    cls_prior_prob = classpriorprob(df)\n",
    "    des_pos_prob = descriptorposprob(df)\n",
    "    classes = list(df.iloc[:,-1].unique())\n",
    "    c = {}\n",
    "    for i,j in test.iterrows():\n",
    "        cls_post_prob = {}\n",
    "        for cls in classes:\n",
    "            temp = []\n",
    "            for k in range(len(j)):\n",
    "                prob = des_pos_prob[k][des_pos_prob[k][\"label\"] == j[k]].iloc[0][cls]\n",
    "                temp.append(prob)\n",
    "            cls_post_prob[cls] = cls_prior_prob[cls] * np.prod(temp)\n",
    "        c[i] = max(cls_post_prob, key=cls_post_prob.get)  \n",
    "        print(\"Class Posterior Probability \",cls_post_prob)\n",
    "    test[\"Class\"] = c.values()\n",
    "    return test"
   ]
  },
  {
   "cell_type": "code",
   "execution_count": 12,
   "metadata": {},
   "outputs": [],
   "source": [
    "demo = pd.read_csv(\"project3_dataset4.txt\", sep = '\\t', header=None)"
   ]
  },
  {
   "cell_type": "code",
   "execution_count": 13,
   "metadata": {},
   "outputs": [
    {
     "data": {
      "text/html": [
       "<div>\n",
       "<style scoped>\n",
       "    .dataframe tbody tr th:only-of-type {\n",
       "        vertical-align: middle;\n",
       "    }\n",
       "\n",
       "    .dataframe tbody tr th {\n",
       "        vertical-align: top;\n",
       "    }\n",
       "\n",
       "    .dataframe thead th {\n",
       "        text-align: right;\n",
       "    }\n",
       "</style>\n",
       "<table border=\"1\" class=\"dataframe\">\n",
       "  <thead>\n",
       "    <tr style=\"text-align: right;\">\n",
       "      <th></th>\n",
       "      <th>0</th>\n",
       "      <th>1</th>\n",
       "      <th>2</th>\n",
       "      <th>3</th>\n",
       "    </tr>\n",
       "  </thead>\n",
       "  <tbody>\n",
       "    <tr>\n",
       "      <th>0</th>\n",
       "      <td>sunny</td>\n",
       "      <td>cool</td>\n",
       "      <td>high</td>\n",
       "      <td>weak</td>\n",
       "    </tr>\n",
       "  </tbody>\n",
       "</table>\n",
       "</div>"
      ],
      "text/plain": [
       "       0     1     2     3\n",
       "0  sunny  cool  high  weak"
      ]
     },
     "execution_count": 13,
     "metadata": {},
     "output_type": "execute_result"
    }
   ],
   "source": [
    "d = {'0': [\"sunny\"], '1': [\"cool\"], '2': [\"high\"], '3': [\"weak\"]}\n",
    "test = pd.DataFrame(data=d)\n",
    "test"
   ]
  },
  {
   "cell_type": "code",
   "execution_count": 14,
   "metadata": {},
   "outputs": [
    {
     "name": "stdout",
     "output_type": "stream",
     "text": [
      "Class Posterior Probability  {0: 0.01784970547985958, 1: 0.014753090635885528}\n"
     ]
    },
    {
     "data": {
      "text/html": [
       "<div>\n",
       "<style scoped>\n",
       "    .dataframe tbody tr th:only-of-type {\n",
       "        vertical-align: middle;\n",
       "    }\n",
       "\n",
       "    .dataframe tbody tr th {\n",
       "        vertical-align: top;\n",
       "    }\n",
       "\n",
       "    .dataframe thead th {\n",
       "        text-align: right;\n",
       "    }\n",
       "</style>\n",
       "<table border=\"1\" class=\"dataframe\">\n",
       "  <thead>\n",
       "    <tr style=\"text-align: right;\">\n",
       "      <th></th>\n",
       "      <th>0</th>\n",
       "      <th>1</th>\n",
       "      <th>2</th>\n",
       "      <th>3</th>\n",
       "      <th>Class</th>\n",
       "    </tr>\n",
       "  </thead>\n",
       "  <tbody>\n",
       "    <tr>\n",
       "      <th>0</th>\n",
       "      <td>sunny</td>\n",
       "      <td>cool</td>\n",
       "      <td>high</td>\n",
       "      <td>weak</td>\n",
       "      <td>0</td>\n",
       "    </tr>\n",
       "  </tbody>\n",
       "</table>\n",
       "</div>"
      ],
      "text/plain": [
       "       0     1     2     3  Class\n",
       "0  sunny  cool  high  weak      0"
      ]
     },
     "execution_count": 14,
     "metadata": {},
     "output_type": "execute_result"
    }
   ],
   "source": [
    "naivebayes_demo(demo, test)"
   ]
  },
  {
   "cell_type": "code",
   "execution_count": null,
   "metadata": {},
   "outputs": [],
   "source": []
  }
 ],
 "metadata": {
  "kernelspec": {
   "display_name": "Python 3",
   "language": "python",
   "name": "python3"
  },
  "language_info": {
   "codemirror_mode": {
    "name": "ipython",
    "version": 3
   },
   "file_extension": ".py",
   "mimetype": "text/x-python",
   "name": "python",
   "nbconvert_exporter": "python",
   "pygments_lexer": "ipython3",
   "version": "3.8.3"
  }
 },
 "nbformat": 4,
 "nbformat_minor": 4
}
