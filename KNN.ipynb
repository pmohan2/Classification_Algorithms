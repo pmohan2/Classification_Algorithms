{
 "cells": [
  {
   "cell_type": "code",
   "execution_count": 1,
   "metadata": {},
   "outputs": [],
   "source": [
    "import pandas as pd\n",
    "import numpy as np\n",
    "import math\n",
    "from statistics import mode\n",
    "import random"
   ]
  },
  {
   "cell_type": "code",
   "execution_count": 2,
   "metadata": {},
   "outputs": [],
   "source": [
    "def distance(a,b):\n",
    "    distance = math.sqrt(((a-b)**2).sum())\n",
    "    return distance"
   ]
  },
  {
   "cell_type": "code",
   "execution_count": 5,
   "metadata": {},
   "outputs": [],
   "source": [
    "def metrics(ts_lb,answer):\n",
    "    TN = 0\n",
    "    TP = 0\n",
    "    FN = 0\n",
    "    FP = 0\n",
    "    for i,j in zip(ts_lb,answer):\n",
    "        if j==1 and i==1:\n",
    "            TP += 1\n",
    "        elif(j==1 and i==0):\n",
    "            FN += 1\n",
    "        elif(j==0 and i==1):\n",
    "            FP += 1\n",
    "        elif(j==0 and i==0):\n",
    "            TN += 1\n",
    "    Accuracy = (TP + TN)/(TP + FP + TN + FN)\n",
    "    Precision = TP/(TP + FP)\n",
    "    Recall = TP/(TP + FN)\n",
    "    try:\n",
    "        f1_score = (2*Precision*Recall)/(Precision + Recall)\n",
    "    except:\n",
    "        f1_score = 0\n",
    "    \n",
    "    return Accuracy, Precision, Recall, f1_score"
   ]
  },
  {
   "cell_type": "code",
   "execution_count": 6,
   "metadata": {},
   "outputs": [],
   "source": [
    "def knn(train, test, k):\n",
    "    answer = []\n",
    "    ts = test.iloc[:,:-1]\n",
    "    tr = train.iloc[:,:-1]\n",
    "    for i in range(len(ts)):\n",
    "        dist = []\n",
    "        for j in range(len(tr)):\n",
    "            distance_a_b = distance((ts.iloc[i]),(tr.iloc[j]))**2\n",
    "            if distance_a_b !=0:\n",
    "                dist.append(1/distance_a_b)\n",
    "            else:\n",
    "                dist.append(float('inf'))\n",
    "                \n",
    "        dist1 = sorted(enumerate(dist), key=lambda x: x[1],reverse = True)\n",
    "        \n",
    "        dist1 = dist1[0:k]\n",
    "        index = [train.iloc[i[0],-1] for i in dist1]\n",
    "        \n",
    "        try:\n",
    "            answer.append(mode(index))\n",
    "        except :\n",
    "            answer.append(mode(index[:-1]))\n",
    "    return answer\n",
    "\n",
    "    "
   ]
  },
  {
   "cell_type": "code",
   "execution_count": 7,
   "metadata": {},
   "outputs": [],
   "source": [
    "def k_fold(df):\n",
    "    nearest = int(input(\"Enter the K-nearest neighbours: \"))\n",
    "    k = int(input(\"Enter k fold value: \"))\n",
    "    metrics_list = []\n",
    "    for i in range(k):\n",
    "        splitdfs = np.array_split(df, k)\n",
    "        #print(splitdfs)\n",
    "        test = splitdfs[i]\n",
    "        del(splitdfs[i])\n",
    "        train = pd.concat(splitdfs)\n",
    "        test.reset_index(inplace = True, drop = True)\n",
    "        train.reset_index(inplace = True, drop = True) \n",
    "        actual = test.iloc[:,-1]\n",
    "        test = test.iloc[:,:-1]\n",
    "        \n",
    "        predicted_values = knn(train, test, nearest)\n",
    "\n",
    "        Accuracy, Precision, Recall, f1_score = metrics(actual, predicted_values)\n",
    "        metrics_list.append([Accuracy, Precision, Recall, f1_score])\n",
    "    metrics_list = np.array(metrics_list)\n",
    "    metrics_list = np.mean(metrics_list, axis = 0)\n",
    "    print(\"Accuracy: \",metrics_list[0])\n",
    "    print(\"Precision: \",metrics_list[1])\n",
    "    print(\"Recall: \",metrics_list[2])\n",
    "    print(\"f1_score: \",metrics_list[3])\n",
    "    return metrics_list"
   ]
  },
  {
   "cell_type": "code",
   "execution_count": 8,
   "metadata": {},
   "outputs": [
    {
     "name": "stdout",
     "output_type": "stream",
     "text": [
      "Dataset Name: project3_dataset2.txt\n",
      "Enter the K-nearest neighbours: 4\n",
      "Enter k fold value: 3\n",
      "Accuracy:  0.6168831168831169\n",
      "Precision:  0.32654127481713685\n",
      "Recall:  0.426968584251326\n",
      "f1_score:  0.36957417692988814\n"
     ]
    },
    {
     "data": {
      "text/plain": [
       "array([0.61688312, 0.32654127, 0.42696858, 0.36957418])"
      ]
     },
     "execution_count": 8,
     "metadata": {},
     "output_type": "execute_result"
    }
   ],
   "source": [
    "file_name = 'project3_dataset2.txt'\n",
    "df = pd.read_csv(file_name, header=None,sep='\\t' )\n",
    "\n",
    "temp = df.iloc[0,:]\n",
    "category_columns = []\n",
    "for column in df.columns:\n",
    "    if type(temp[column]) == str:\n",
    "        category_columns.append(column)\n",
    "df.drop(category_columns,axis = 1, inplace=True)\n",
    "print(\"Dataset Name: \"+file_name)\n",
    "k_fold(df)"
   ]
  },
  {
   "cell_type": "markdown",
   "metadata": {},
   "source": [
    "# Demo"
   ]
  },
  {
   "cell_type": "code",
   "execution_count": 9,
   "metadata": {},
   "outputs": [
    {
     "name": "stdout",
     "output_type": "stream",
     "text": [
      "Enter the k nearest neighbour :9\n",
      "Accuracy : 0.95\n",
      "Precision : 0.9\n",
      "Recall : 1.0\n",
      "f1_score : 0.9473684210526316\n"
     ]
    }
   ],
   "source": [
    "train = pd.read_csv('project3_dataset3_train.txt', header=None,sep='\\t' )\n",
    "k = int(input(\"Enter the k nearest neighbour :\"))\n",
    "test = pd.read_csv('project3_dataset3_test.txt', header=None,sep='\\t' )\n",
    "\n",
    "predicted_values = knn(train, test, k)\n",
    "actual_values = list(test.iloc[:,-1])\n",
    "\n",
    "Accuracy, Precision, Recall, f1_score = metrics(actual_values ,predicted_values)\n",
    "print(\"Accuracy : \"+str(Accuracy))\n",
    "print(\"Precision : \"+str(Precision))\n",
    "print(\"Recall : \"+str(Recall))\n",
    "print(\"f1_score : \"+str(f1_score))\n"
   ]
  },
  {
   "cell_type": "code",
   "execution_count": null,
   "metadata": {},
   "outputs": [],
   "source": []
  }
 ],
 "metadata": {
  "kernelspec": {
   "display_name": "Python 3",
   "language": "python",
   "name": "python3"
  },
  "language_info": {
   "codemirror_mode": {
    "name": "ipython",
    "version": 3
   },
   "file_extension": ".py",
   "mimetype": "text/x-python",
   "name": "python",
   "nbconvert_exporter": "python",
   "pygments_lexer": "ipython3",
   "version": "3.8.3"
  }
 },
 "nbformat": 4,
 "nbformat_minor": 4
}
